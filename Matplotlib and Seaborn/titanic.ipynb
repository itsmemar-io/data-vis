{
 "cells": [
  {
   "cell_type": "code",
   "execution_count": 1,
   "metadata": {},
   "outputs": [],
   "source": [
    "import numpy as np\n",
    "import pandas as pd\n",
    "import matplotlib.pyplot as plt\n",
    "import matplotlib.dates as mdates\n",
    "%matplotlib inline\n",
    "import seaborn as sns\n",
    "import datetime"
   ]
  },
  {
   "cell_type": "code",
   "execution_count": 2,
   "metadata": {},
   "outputs": [],
   "source": [
    "df = sns.load_dataset('titanic')"
   ]
  },
  {
   "cell_type": "code",
   "execution_count": 3,
   "metadata": {},
   "outputs": [
    {
     "data": {
      "text/html": [
       "<div>\n",
       "<style scoped>\n",
       "    .dataframe tbody tr th:only-of-type {\n",
       "        vertical-align: middle;\n",
       "    }\n",
       "\n",
       "    .dataframe tbody tr th {\n",
       "        vertical-align: top;\n",
       "    }\n",
       "\n",
       "    .dataframe thead th {\n",
       "        text-align: right;\n",
       "    }\n",
       "</style>\n",
       "<table border=\"1\" class=\"dataframe\">\n",
       "  <thead>\n",
       "    <tr style=\"text-align: right;\">\n",
       "      <th></th>\n",
       "      <th>survived</th>\n",
       "      <th>pclass</th>\n",
       "      <th>sex</th>\n",
       "      <th>age</th>\n",
       "      <th>sibsp</th>\n",
       "      <th>parch</th>\n",
       "      <th>fare</th>\n",
       "      <th>embarked</th>\n",
       "      <th>class</th>\n",
       "      <th>who</th>\n",
       "      <th>adult_male</th>\n",
       "      <th>deck</th>\n",
       "      <th>embark_town</th>\n",
       "      <th>alive</th>\n",
       "      <th>alone</th>\n",
       "    </tr>\n",
       "  </thead>\n",
       "  <tbody>\n",
       "    <tr>\n",
       "      <th>0</th>\n",
       "      <td>0</td>\n",
       "      <td>3</td>\n",
       "      <td>male</td>\n",
       "      <td>22.0</td>\n",
       "      <td>1</td>\n",
       "      <td>0</td>\n",
       "      <td>7.2500</td>\n",
       "      <td>S</td>\n",
       "      <td>Third</td>\n",
       "      <td>man</td>\n",
       "      <td>True</td>\n",
       "      <td>NaN</td>\n",
       "      <td>Southampton</td>\n",
       "      <td>no</td>\n",
       "      <td>False</td>\n",
       "    </tr>\n",
       "    <tr>\n",
       "      <th>1</th>\n",
       "      <td>1</td>\n",
       "      <td>1</td>\n",
       "      <td>female</td>\n",
       "      <td>38.0</td>\n",
       "      <td>1</td>\n",
       "      <td>0</td>\n",
       "      <td>71.2833</td>\n",
       "      <td>C</td>\n",
       "      <td>First</td>\n",
       "      <td>woman</td>\n",
       "      <td>False</td>\n",
       "      <td>C</td>\n",
       "      <td>Cherbourg</td>\n",
       "      <td>yes</td>\n",
       "      <td>False</td>\n",
       "    </tr>\n",
       "    <tr>\n",
       "      <th>2</th>\n",
       "      <td>1</td>\n",
       "      <td>3</td>\n",
       "      <td>female</td>\n",
       "      <td>26.0</td>\n",
       "      <td>0</td>\n",
       "      <td>0</td>\n",
       "      <td>7.9250</td>\n",
       "      <td>S</td>\n",
       "      <td>Third</td>\n",
       "      <td>woman</td>\n",
       "      <td>False</td>\n",
       "      <td>NaN</td>\n",
       "      <td>Southampton</td>\n",
       "      <td>yes</td>\n",
       "      <td>True</td>\n",
       "    </tr>\n",
       "    <tr>\n",
       "      <th>3</th>\n",
       "      <td>1</td>\n",
       "      <td>1</td>\n",
       "      <td>female</td>\n",
       "      <td>35.0</td>\n",
       "      <td>1</td>\n",
       "      <td>0</td>\n",
       "      <td>53.1000</td>\n",
       "      <td>S</td>\n",
       "      <td>First</td>\n",
       "      <td>woman</td>\n",
       "      <td>False</td>\n",
       "      <td>C</td>\n",
       "      <td>Southampton</td>\n",
       "      <td>yes</td>\n",
       "      <td>False</td>\n",
       "    </tr>\n",
       "    <tr>\n",
       "      <th>4</th>\n",
       "      <td>0</td>\n",
       "      <td>3</td>\n",
       "      <td>male</td>\n",
       "      <td>35.0</td>\n",
       "      <td>0</td>\n",
       "      <td>0</td>\n",
       "      <td>8.0500</td>\n",
       "      <td>S</td>\n",
       "      <td>Third</td>\n",
       "      <td>man</td>\n",
       "      <td>True</td>\n",
       "      <td>NaN</td>\n",
       "      <td>Southampton</td>\n",
       "      <td>no</td>\n",
       "      <td>True</td>\n",
       "    </tr>\n",
       "  </tbody>\n",
       "</table>\n",
       "</div>"
      ],
      "text/plain": [
       "   survived  pclass     sex   age  sibsp  parch     fare embarked  class  \\\n",
       "0         0       3    male  22.0      1      0   7.2500        S  Third   \n",
       "1         1       1  female  38.0      1      0  71.2833        C  First   \n",
       "2         1       3  female  26.0      0      0   7.9250        S  Third   \n",
       "3         1       1  female  35.0      1      0  53.1000        S  First   \n",
       "4         0       3    male  35.0      0      0   8.0500        S  Third   \n",
       "\n",
       "     who  adult_male deck  embark_town alive  alone  \n",
       "0    man        True  NaN  Southampton    no  False  \n",
       "1  woman       False    C    Cherbourg   yes  False  \n",
       "2  woman       False  NaN  Southampton   yes   True  \n",
       "3  woman       False    C  Southampton   yes  False  \n",
       "4    man        True  NaN  Southampton    no   True  "
      ]
     },
     "execution_count": 3,
     "metadata": {},
     "output_type": "execute_result"
    }
   ],
   "source": [
    "df.head()"
   ]
  },
  {
   "cell_type": "code",
   "execution_count": 4,
   "metadata": {},
   "outputs": [
    {
     "name": "stdout",
     "output_type": "stream",
     "text": [
      "<class 'pandas.core.frame.DataFrame'>\n",
      "RangeIndex: 891 entries, 0 to 890\n",
      "Data columns (total 15 columns):\n",
      " #   Column       Non-Null Count  Dtype   \n",
      "---  ------       --------------  -----   \n",
      " 0   survived     891 non-null    int64   \n",
      " 1   pclass       891 non-null    int64   \n",
      " 2   sex          891 non-null    object  \n",
      " 3   age          714 non-null    float64 \n",
      " 4   sibsp        891 non-null    int64   \n",
      " 5   parch        891 non-null    int64   \n",
      " 6   fare         891 non-null    float64 \n",
      " 7   embarked     889 non-null    object  \n",
      " 8   class        891 non-null    category\n",
      " 9   who          891 non-null    object  \n",
      " 10  adult_male   891 non-null    bool    \n",
      " 11  deck         203 non-null    category\n",
      " 12  embark_town  889 non-null    object  \n",
      " 13  alive        891 non-null    object  \n",
      " 14  alone        891 non-null    bool    \n",
      "dtypes: bool(2), category(2), float64(2), int64(4), object(5)\n",
      "memory usage: 80.7+ KB\n"
     ]
    }
   ],
   "source": [
    "df.info()"
   ]
  },
  {
   "cell_type": "markdown",
   "metadata": {},
   "source": [
    "Visualize how how many survived depending on the class they were travelling"
   ]
  },
  {
   "cell_type": "code",
   "execution_count": 5,
   "metadata": {},
   "outputs": [],
   "source": [
    "from statsmodels.graphics.mosaicplot import mosaic"
   ]
  },
  {
   "cell_type": "code",
   "execution_count": 6,
   "metadata": {},
   "outputs": [
    {
     "data": {
      "text/plain": [
       "(<Figure size 432x288 with 3 Axes>,\n",
       " {('0', 'False', 'True'): (0.0, 0.0, 0.3600507555235027, 0.3177023764137756),\n",
       "  ('0', 'False', 'False'): (0.3614101704580574,\n",
       "   0.0,\n",
       "   0.2516859650261378,\n",
       "   0.3177023764137756),\n",
       "  ('0', 'True', 'True'): (0.0,\n",
       "   0.3210246355499882,\n",
       "   0.5659382494924482,\n",
       "   0.6789753644500117),\n",
       "  ('0', 'True', 'False'): (0.5672976644270029,\n",
       "   0.3210246355499882,\n",
       "   0.045798471057192314,\n",
       "   0.6789753644500117),\n",
       "  ('1', 'False', 'True'): (0.6180712598623047,\n",
       "   0.0,\n",
       "   0.051094778747254536,\n",
       "   0.5216529696333857),\n",
       "  ('1', 'False', 'False'): (0.6700128872573147,\n",
       "   0.0,\n",
       "   0.32998711274268555,\n",
       "   0.5216529696333857),\n",
       "  ('1', 'True', 'True'): (0.6180712598623047,\n",
       "   0.5249752287695983,\n",
       "   0.14962724573838135,\n",
       "   0.47502477123040154),\n",
       "  ('1', 'True', 'False'): (0.7685453542484415,\n",
       "   0.5249752287695983,\n",
       "   0.23145464575155866,\n",
       "   0.47502477123040154)})"
      ]
     },
     "execution_count": 6,
     "metadata": {},
     "output_type": "execute_result"
    },
    {
     "data": {
      "image/png": "[encoded data removed]",
      "text/plain": [
       "<Figure size 432x288 with 3 Axes>"
      ]
     },
     "metadata": {
      "needs_background": "light"
     },
     "output_type": "display_data"
    }
   ],
   "source": [
    "mosaic(data = df, index = ['survived', 'alone', 'adult_male'])"
   ]
  },
  {
   "cell_type": "code",
   "execution_count": 7,
   "metadata": {},
   "outputs": [
    {
     "data": {
      "text/plain": [
       "(<Figure size 432x288 with 3 Axes>,\n",
       " {('0', 'male', 'man'): (0.0, 0.0, 0.5856028012942556, 0.8496269266379826),\n",
       "  ('0', 'male', 'woman'): (0.5869592086736453, 0.0, 0.0, 0.8496269266379826),\n",
       "  ('0', 'male', 'child'): (0.5883156160530352,\n",
       "   0.0,\n",
       "   0.024780519431160015,\n",
       "   0.8496269266379826),\n",
       "  ('0', 'female', 'man'): (0.0, 0.8529491857741952, 0.0, 0.14705081422580474),\n",
       "  ('0', 'female', 'woman'): (0.0013564073793898123,\n",
       "   0.8529491857741952,\n",
       "   0.4973493724429311,\n",
       "   0.14705081422580474),\n",
       "  ('0', 'female', 'child'): (0.5000621872017108,\n",
       "   0.8529491857741952,\n",
       "   0.11303394828248439,\n",
       "   0.14705081422580474),\n",
       "  ('1', 'male', 'man'): (0.6180712598623047,\n",
       "   0.0,\n",
       "   0.3069817753806272,\n",
       "   0.3176546016203299),\n",
       "  ('1', 'male', 'woman'): (0.9258980103317321, 0.0, 0.0, 0.3176546016203299),\n",
       "  ('1', 'male', 'child'): (0.9267429854205324,\n",
       "   0.0,\n",
       "   0.07325701457946783,\n",
       "   0.3176546016203299),\n",
       "  ('1', 'female', 'man'): (0.6180712598623047,\n",
       "   0.3209768607565425,\n",
       "   0.0,\n",
       "   0.6790231392434575),\n",
       "  ('1', 'female', 'woman'): (0.6189162349511049,\n",
       "   0.3209768607565425,\n",
       "   0.33454485811939694,\n",
       "   0.6790231392434575),\n",
       "  ('1', 'female', 'child'): (0.9543060681593021,\n",
       "   0.3209768607565425,\n",
       "   0.04569393184069811,\n",
       "   0.6790231392434575)})"
      ]
     },
     "execution_count": 7,
     "metadata": {},
     "output_type": "execute_result"
    },
    {
     "data": {
      "image/png": "[encoded data removed]",
      "text/plain": [
       "<Figure size 432x288 with 3 Axes>"
      ]
     },
     "metadata": {
      "needs_background": "light"
     },
     "output_type": "display_data"
    }
   ],
   "source": [
    "mosaic(data = df, index = ['survived', 'sex','who'])"
   ]
  },
  {
   "cell_type": "code",
   "execution_count": 8,
   "metadata": {},
   "outputs": [
    {
     "data": {
      "text/plain": [
       "(<Figure size 432x288 with 3 Axes>,\n",
       " {('0', 'C'): (0.0, 0.0, 0.32840722495894903, 0.35118525021949076),\n",
       "  ('0', 'E'): (0.0,\n",
       "   0.3544532240756999,\n",
       "   0.32840722495894903,\n",
       "   0.1170617500731636),\n",
       "  ('0', 'G'): (0.0,\n",
       "   0.47478294800507265,\n",
       "   0.32840722495894903,\n",
       "   0.02926543751829093),\n",
       "  ('0', 'D'): (0.0,\n",
       "   0.5073163593795728,\n",
       "   0.32840722495894903,\n",
       "   0.1170617500731636),\n",
       "  ('0', 'A'): (0.0,\n",
       "   0.6276460833089454,\n",
       "   0.32840722495894903,\n",
       "   0.1170617500731636),\n",
       "  ('0', 'B'): (0.0,\n",
       "   0.7479758072383182,\n",
       "   0.32840722495894903,\n",
       "   0.17559262510974535),\n",
       "  ('0', 'F'): (0.0,\n",
       "   0.9268364062042728,\n",
       "   0.32840722495894903,\n",
       "   0.07316359379572723),\n",
       "  ('1', 'C'): (0.3333823493370585,\n",
       "   0.0,\n",
       "   0.6666176506629414,\n",
       "   0.2523068050749711),\n",
       "  ('1', 'E'): (0.3333823493370585,\n",
       "   0.2555747789311803,\n",
       "   0.6666176506629414,\n",
       "   0.1730103806228374),\n",
       "  ('1', 'G'): (0.3333823493370585,\n",
       "   0.43185313341022685,\n",
       "   0.6666176506629414,\n",
       "   0.014417531718569784),\n",
       "  ('1', 'D'): (0.3333823493370585,\n",
       "   0.4495386389850058,\n",
       "   0.6666176506629414,\n",
       "   0.18021914648212223),\n",
       "  ('1', 'A'): (0.3333823493370585,\n",
       "   0.6330257593233372,\n",
       "   0.6666176506629414,\n",
       "   0.05046136101499427),\n",
       "  ('1', 'B'): (0.3333823493370585,\n",
       "   0.6867550941945406,\n",
       "   0.6666176506629414,\n",
       "   0.2523068050749711),\n",
       "  ('1', 'F'): (0.3333823493370585,\n",
       "   0.9423298731257209,\n",
       "   0.6666176506629414,\n",
       "   0.05767012687427914)})"
      ]
     },
     "execution_count": 8,
     "metadata": {},
     "output_type": "execute_result"
    },
    {
     "data": {
      "image/png": "[encoded data removed]",
      "text/plain": [
       "<Figure size 432x288 with 3 Axes>"
      ]
     },
     "metadata": {
      "needs_background": "light"
     },
     "output_type": "display_data"
    }
   ],
   "source": [
    "mosaic(data = df, index = ['survived', 'deck'])"
   ]
  },
  {
   "cell_type": "code",
   "execution_count": 9,
   "metadata": {},
   "outputs": [
    {
     "data": {
      "text/plain": [
       "(<Figure size 432x288 with 3 Axes>,\n",
       " {('First', 'C'): (0.0, 0.0, 0.8535336292249914, 0.33053221288515405),\n",
       "  ('First', 'E'): (0.0,\n",
       "   0.3338001867413632,\n",
       "   0.8535336292249914,\n",
       "   0.1400560224089636),\n",
       "  ('First', 'G'): (0.0, 0.4771241830065359, 0.8535336292249914, 0.0),\n",
       "  ('First', 'D'): (0.0,\n",
       "   0.48039215686274506,\n",
       "   0.8535336292249914,\n",
       "   0.16246498599439774),\n",
       "  ('First', 'A'): (0.0,\n",
       "   0.6461251167133519,\n",
       "   0.8535336292249914,\n",
       "   0.08403361344537817),\n",
       "  ('First', 'B'): (0.0,\n",
       "   0.7334267040149394,\n",
       "   0.8535336292249914,\n",
       "   0.26330532212885155),\n",
       "  ('First', 'F'): (0.0, 1.0, 0.8535336292249914, 0.0),\n",
       "  ('Third', 'C'): (0.8584841242744964, 0.0, 0.05852802028971374, 0.0),\n",
       "  ('Third', 'E'): (0.8584841242744964,\n",
       "   0.0032679738562091504,\n",
       "   0.05852802028971374,\n",
       "   0.24509803921568626),\n",
       "  ('Third', 'G'): (0.8584841242744964,\n",
       "   0.25163398692810457,\n",
       "   0.05852802028971374,\n",
       "   0.32679738562091504),\n",
       "  ('Third', 'D'): (0.8584841242744964,\n",
       "   0.5816993464052288,\n",
       "   0.05852802028971374,\n",
       "   0.0),\n",
       "  ('Third', 'A'): (0.8584841242744964,\n",
       "   0.5849673202614379,\n",
       "   0.05852802028971374,\n",
       "   0.0),\n",
       "  ('Third', 'B'): (0.8584841242744964,\n",
       "   0.5882352941176472,\n",
       "   0.05852802028971374,\n",
       "   0.0),\n",
       "  ('Third', 'F'): (0.8584841242744964,\n",
       "   0.5915032679738562,\n",
       "   0.05852802028971374,\n",
       "   0.4084967320261437),\n",
       "  ('Second', 'C'): (0.921962639613715, 0.0, 0.07803736038628495, 0.0),\n",
       "  ('Second', 'E'): (0.921962639613715,\n",
       "   0.0032679738562091504,\n",
       "   0.07803736038628495,\n",
       "   0.24509803921568626),\n",
       "  ('Second', 'G'): (0.921962639613715,\n",
       "   0.25163398692810457,\n",
       "   0.07803736038628495,\n",
       "   0.0),\n",
       "  ('Second', 'D'): (0.921962639613715,\n",
       "   0.2549019607843137,\n",
       "   0.07803736038628495,\n",
       "   0.24509803921568626),\n",
       "  ('Second', 'A'): (0.921962639613715,\n",
       "   0.5032679738562091,\n",
       "   0.07803736038628495,\n",
       "   0.0),\n",
       "  ('Second', 'B'): (0.921962639613715,\n",
       "   0.5065359477124184,\n",
       "   0.07803736038628495,\n",
       "   0.0),\n",
       "  ('Second', 'F'): (0.921962639613715,\n",
       "   0.5098039215686274,\n",
       "   0.07803736038628495,\n",
       "   0.49019607843137253)})"
      ]
     },
     "execution_count": 9,
     "metadata": {},
     "output_type": "execute_result"
    },
    {
     "data": {
      "image/png": "[encoded data removed]",
      "text/plain": [
       "<Figure size 432x288 with 3 Axes>"
      ]
     },
     "metadata": {
      "needs_background": "light"
     },
     "output_type": "display_data"
    }
   ],
   "source": [
    "mosaic(data = df, index = ['class', 'deck'])"
   ]
  },
  {
   "cell_type": "markdown",
   "metadata": {},
   "source": []
  }
 ],
 "metadata": {
  "interpreter": {
   "hash": "c394e43c4c07695b1448913565c8285713ffff47ef383798434eb1996a1a819c"
  },
  "kernelspec": {
   "display_name": "Python 3.8.12 64-bit ('base': conda)",
   "name": "python3"
  },
  "language_info": {
   "codemirror_mode": {
    "name": "ipython",
    "version": 3
   },
   "file_extension": ".py",
   "mimetype": "text/x-python",
   "name": "python",
   "nbconvert_exporter": "python",
   "pygments_lexer": "ipython3",
   "version": "3.8.12"
  },
  "orig_nbformat": 4
 },
 "nbformat": 4,
 "nbformat_minor": 2
}
